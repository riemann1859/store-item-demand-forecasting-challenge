{
  "nbformat": 4,
  "nbformat_minor": 0,
  "metadata": {
    "colab": {
      "name": "Lasso+RecursiveStrategy.ipynb",
      "version": "0.3.2",
      "provenance": [],
      "machine_shape": "hm",
      "include_colab_link": true
    },
    "kernelspec": {
      "name": "python3",
      "display_name": "Python 3"
    },
    "accelerator": "GPU"
  },
  "cells": [
    {
      "cell_type": "markdown",
      "metadata": {
        "id": "view-in-github",
        "colab_type": "text"
      },
      "source": [
        "<a href=\"https://colab.research.google.com/github/riemann1859/store-item-demand-forecasting-challenge/blob/master/Lasso%2BRecursiveStrategy.ipynb\" target=\"_parent\"><img src=\"https://colab.research.google.com/assets/colab-badge.svg\" alt=\"Open In Colab\"/></a>"
      ]
    },
    {
      "cell_type": "code",
      "metadata": {
        "id": "L1acuQMrvYyH",
        "colab_type": "code",
        "colab": {}
      },
      "source": [
        "#import necessary libraries\n",
        "\n",
        "import pandas as pd\n",
        "import numpy as np\n",
        "import matplotlib.pyplot as plt\n",
        "\n",
        "#load datasets\n",
        "df_train=pd.read_csv('train.csv',sep=',')\n",
        "df_test=pd.read_csv('test.csv',sep=',')\n",
        "\n",
        "#drop id column \n",
        "\n",
        "if 'id' in df_test.columns:\n",
        "  df_test.drop(labels='id',axis=1,inplace=True)\n",
        "  \n",
        "if 'id' in df_train.columns:\n",
        "  df_train.drop(labels='id',axis=1,inplace=True)\n",
        "  \n",
        "\n",
        "# create sales column for df_test which is to be predicted  \n",
        "df_test['sales']=np.NaN\n",
        "\n",
        "df_test['purpose']='test'\n",
        "df_train['purpose']='train'\n",
        "\n",
        "#combine df_train and df_test into one dataframe\n",
        "\n",
        "df=pd.concat([df_train, df_test], axis=0)\n",
        "\n",
        "df.loc[(df.purpose=='train')&(df.date>'2016-12-31'),'purpose']='validation'\n",
        "\n",
        "\n",
        "#convert to date_time object\n",
        "\n",
        "df['date'] = pd.to_datetime(df['date'])\n",
        "\n",
        "df=df.sort_values(by=['item','store','date'])\n",
        "\n"
      ],
      "execution_count": 0,
      "outputs": []
    },
    {
      "cell_type": "code",
      "metadata": {
        "id": "hn_aK60-yNSh",
        "colab_type": "code",
        "colab": {}
      },
      "source": [
        "# prepare dataframe \n",
        "# if we denote sales column with S_t, we add S_(t-1), S_(t-2),.... to this new dataframe\n",
        "\n",
        "new_df=pd.DataFrame()\n",
        "for item in df.item.unique():\n",
        "    for store in df.store.unique():\n",
        "        #add lagged sales column to  the related part of the original dataframe \n",
        "        new=pd.concat([df.loc[(df.store==store)&(df.item==item)]]+[df.loc[(df.store==store)&(df.item==item),'sales'].shift(i) for i in range(1,400)],axis=1)\n",
        "        new.columns=list(df.columns)+['sales_lagged_{}'.format(i) for i in range(1,400)]\n",
        "        new_df=pd.concat([new_df,new],axis=0)"
      ],
      "execution_count": 0,
      "outputs": []
    },
    {
      "cell_type": "code",
      "metadata": {
        "id": "LHbPYzFuyrdB",
        "colab_type": "code",
        "colab": {}
      },
      "source": [
        "#create some new categorical features from date\n",
        "\n",
        "new_df['weekofyear']=new_df.date.apply(lambda x:x.weekofyear)\n",
        "new_df['dayofweek']=new_df.date.apply(lambda x:x.dayofweek)\n",
        "new_df['year']=new_df.date.apply(lambda x:x.year)\n",
        "new_df['month']=new_df.date.apply(lambda x:x.month)\n",
        "\n",
        "new_df['weekofyear']=new_df['weekofyear'].astype('category')\n",
        "new_df['dayofweek']=new_df['dayofweek'].astype('category')\n",
        "new_df['year']=new_df['year'].astype('category')\n",
        "new_df['month']=new_df['month'].astype('category')\n",
        "new_df['store']=new_df.store.astype('category')\n",
        "new_df['item']=new_df.item.astype('category')\n"
      ],
      "execution_count": 0,
      "outputs": []
    },
    {
      "cell_type": "code",
      "metadata": {
        "id": "BHPyerOA5DfU",
        "colab_type": "code",
        "colab": {
          "base_uri": "https://localhost:8080/",
          "height": 185
        },
        "outputId": "c308182b-2498-47a0-db99-72fed585f558"
      },
      "source": [
        "# convert categoricals to dummy variables\n",
        "\n",
        "new_df_with_dummies=pd.concat([pd.get_dummies(new_df.drop(labels='purpose',axis=1)),new_df.purpose],axis=1)\n",
        "\n",
        "train=new_df_with_dummies[new_df_with_dummies.purpose=='train']\n",
        "validation=new_df_with_dummies[new_df_with_dummies.purpose=='validation']\n",
        "test=new_df_with_dummies[new_df_with_dummies.purpose=='test']\n",
        "\n",
        "train.dropna(inplace=True)\n",
        "validation.dropna(inplace=True)\n",
        "\n",
        "\n",
        "xtrain=train.drop(labels=['sales','date','purpose'],axis=1)\n",
        "ytrain=train.sales.values\n",
        "xvalidation=validation.drop(labels=['sales','date','purpose'],axis=1)\n",
        "yvalidation=validation.sales.values"
      ],
      "execution_count": 8,
      "outputs": [
        {
          "output_type": "stream",
          "text": [
            "/usr/local/lib/python3.6/dist-packages/ipykernel_launcher.py:8: SettingWithCopyWarning: \n",
            "A value is trying to be set on a copy of a slice from a DataFrame\n",
            "\n",
            "See the caveats in the documentation: http://pandas.pydata.org/pandas-docs/stable/indexing.html#indexing-view-versus-copy\n",
            "  \n",
            "/usr/local/lib/python3.6/dist-packages/ipykernel_launcher.py:9: SettingWithCopyWarning: \n",
            "A value is trying to be set on a copy of a slice from a DataFrame\n",
            "\n",
            "See the caveats in the documentation: http://pandas.pydata.org/pandas-docs/stable/indexing.html#indexing-view-versus-copy\n",
            "  if __name__ == '__main__':\n"
          ],
          "name": "stderr"
        }
      ]
    },
    {
      "cell_type": "code",
      "metadata": {
        "id": "8LsXhfgXKyHU",
        "colab_type": "code",
        "colab": {
          "base_uri": "https://localhost:8080/",
          "height": 67
        },
        "outputId": "16693c4b-4a04-4fda-a635-b2bcb7d97e76"
      },
      "source": [
        "from sklearn.linear_model import  LassoLarsIC\n",
        "\n",
        "\n",
        "\n",
        "model_bic = LassoLarsIC(criterion='bic')\n",
        "model_bic.fit(xtrain,ytrain)"
      ],
      "execution_count": 9,
      "outputs": [
        {
          "output_type": "execute_result",
          "data": {
            "text/plain": [
              "LassoLarsIC(copy_X=True, criterion='bic', eps=2.220446049250313e-16,\n",
              "            fit_intercept=True, max_iter=500, normalize=True, positive=False,\n",
              "            precompute='auto', verbose=False)"
            ]
          },
          "metadata": {
            "tags": []
          },
          "execution_count": 9
        }
      ]
    },
    {
      "cell_type": "code",
      "metadata": {
        "id": "56a0KemENBzh",
        "colab_type": "code",
        "colab": {
          "base_uri": "https://localhost:8080/",
          "height": 67
        },
        "outputId": "cf2e1a62-f5a2-4253-d7d4-8870cac595f4"
      },
      "source": [
        "model_aic = LassoLarsIC(criterion='aic')\n",
        "model_aic.fit(xtrain,ytrain)\n",
        "\n"
      ],
      "execution_count": 10,
      "outputs": [
        {
          "output_type": "execute_result",
          "data": {
            "text/plain": [
              "LassoLarsIC(copy_X=True, criterion='aic', eps=2.220446049250313e-16,\n",
              "            fit_intercept=True, max_iter=500, normalize=True, positive=False,\n",
              "            precompute='auto', verbose=False)"
            ]
          },
          "metadata": {
            "tags": []
          },
          "execution_count": 10
        }
      ]
    },
    {
      "cell_type": "code",
      "metadata": {
        "id": "eLp1YUWJVAnu",
        "colab_type": "code",
        "colab": {
          "base_uri": "https://localhost:8080/",
          "height": 67
        },
        "outputId": "35207110-4d2a-465f-95f1-79392967a569"
      },
      "source": [
        "\n",
        "from sklearn.linear_model import  LassoLarsCV\n",
        "\n",
        "\n",
        "model_CV=LassoLarsCV(cv=10,max_iter=1000)\n",
        "model_CV.fit(xtrain,ytrain)"
      ],
      "execution_count": 11,
      "outputs": [
        {
          "output_type": "execute_result",
          "data": {
            "text/plain": [
              "LassoLarsCV(copy_X=True, cv=10, eps=2.220446049250313e-16, fit_intercept=True,\n",
              "            max_iter=1000, max_n_alphas=1000, n_jobs=None, normalize=True,\n",
              "            positive=False, precompute='auto', verbose=False)"
            ]
          },
          "metadata": {
            "tags": []
          },
          "execution_count": 11
        }
      ]
    },
    {
      "cell_type": "code",
      "metadata": {
        "id": "iFrCZ-HosU26",
        "colab_type": "code",
        "colab": {
          "base_uri": "https://localhost:8080/",
          "height": 67
        },
        "outputId": "d70c6d65-f8eb-43fb-de15-d225bac59f68"
      },
      "source": [
        "#best alphas according to the three methods above\n",
        "\n",
        "print(model_aic.alpha_)\n",
        "print(model_bic.alpha_)\n",
        "print(model_CV.alpha_)\n",
        "\n"
      ],
      "execution_count": 12,
      "outputs": [
        {
          "output_type": "stream",
          "text": [
            "8.02253852187597e-06\n",
            "0.00013497300365540607\n",
            "5.200219542816652e-06\n"
          ],
          "name": "stdout"
        }
      ]
    },
    {
      "cell_type": "code",
      "metadata": {
        "id": "EtM708k_Vj0R",
        "colab_type": "code",
        "outputId": "6ef7158f-7f33-4b6e-8a49-b7c113134bbe",
        "colab": {
          "base_uri": "https://localhost:8080/",
          "height": 67
        }
      },
      "source": [
        "# performances on validation set with respect to smape metric\n",
        "\n",
        "def smape(A, F):\n",
        "    return 100/len(A) * np.sum(2 * np.abs(F - A) / (np.abs(A) + np.abs(F)))\n",
        "\n",
        "print(smape(model_aic.predict(xvalidation),yvalidation))\n",
        "print(smape(model_bic.predict(xvalidation),yvalidation))\n",
        "print(smape(model_CV.predict(xvalidation),yvalidation))"
      ],
      "execution_count": 13,
      "outputs": [
        {
          "output_type": "stream",
          "text": [
            "12.434772034534191\n",
            "12.610491233115054\n",
            "12.421586803620523\n"
          ],
          "name": "stdout"
        }
      ]
    },
    {
      "cell_type": "code",
      "metadata": {
        "id": "Mmyb189DVoLt",
        "colab_type": "code",
        "colab": {
          "base_uri": "https://localhost:8080/",
          "height": 121
        },
        "outputId": "c3cdf362-a31b-4364-e902-fdcc9fbb0456"
      },
      "source": [
        "# we now construct a Lasso model with alpha=model_CV.alpha_ on the training set xtrain+xvalidation\n",
        "\n",
        "xtrain_val=pd.concat([xtrain,xvalidation],axis=0)\n",
        "ytrain_val=np.concatenate((ytrain,yvalidation),axis=0)\n",
        "\n",
        "from sklearn.linear_model import Lasso\n",
        "\n",
        "\n",
        "\n",
        "lasso=Lasso(max_iter=1000, alpha=model_CV.alpha_)\n",
        "lasso.fit(xtrain_val,ytrain_val)"
      ],
      "execution_count": 14,
      "outputs": [
        {
          "output_type": "stream",
          "text": [
            "/usr/local/lib/python3.6/dist-packages/sklearn/linear_model/coordinate_descent.py:475: ConvergenceWarning: Objective did not converge. You might want to increase the number of iterations. Duality gap: 21468696.542953387, tolerance: 62578.079123456075\n",
            "  positive)\n"
          ],
          "name": "stderr"
        },
        {
          "output_type": "execute_result",
          "data": {
            "text/plain": [
              "Lasso(alpha=5.200219542816652e-06, copy_X=True, fit_intercept=True,\n",
              "      max_iter=1000, normalize=False, positive=False, precompute=False,\n",
              "      random_state=None, selection='cyclic', tol=0.0001, warm_start=False)"
            ]
          },
          "metadata": {
            "tags": []
          },
          "execution_count": 14
        }
      ]
    },
    {
      "cell_type": "code",
      "metadata": {
        "id": "i4XWERmaAOVK",
        "colab_type": "code",
        "colab": {
          "base_uri": "https://localhost:8080/",
          "height": 50
        },
        "outputId": "a31ed97f-0e31-4727-e56d-e5b82e4f80e6"
      },
      "source": [
        "# predictions with Recursive strategy\n",
        "\n",
        "\n",
        "predictions={} # two dimensional dictionary\n",
        "for item in df.item.unique():\n",
        "    predictions[item]=dict()\n",
        "    for store in df.store.unique():\n",
        "        predictions[item][store]=list()\n",
        "        start=900*(item-1)+90*(store-1)    \n",
        "        end=900*(item-1)+90*store\n",
        "        count=0\n",
        "        for ind1 in range(start,end):\n",
        "            predictions[item][store].append(lasso.predict(np.concatenate((predictions[item][store][:count],test.iloc[ind1,count+2:-1].values)).reshape(1,-1))[0])\n",
        "            count+=1\n",
        "     \n",
        "    \n"
      ],
      "execution_count": 48,
      "outputs": [
        {
          "output_type": "stream",
          "text": [
            "1565974974.106983\n",
            "1565975015.4061806\n"
          ],
          "name": "stdout"
        }
      ]
    },
    {
      "cell_type": "code",
      "metadata": {
        "id": "Je7LpXHtV368",
        "colab_type": "code",
        "colab": {}
      },
      "source": [
        "#prepare the submission file\n",
        "\n",
        "\n",
        "for item in df.item.unique():\n",
        "    for store in df.store.unique():\n",
        "        start=900*(item-1)+90*(store-1)    \n",
        "        end=900*(item-1)+90*store\n",
        "        df_test.iloc[start:end,3]=predictions[item][store]\n",
        "        \n",
        "d={}\n",
        "d['id']=df_test.index\n",
        "d['sales']=df_test.sales\n",
        "\n",
        "pred_submission=pd.DataFrame(d, columns=['id','sales'])\n",
        "\n",
        "from google.colab import files\n",
        "\n",
        "with open('pred.csv', 'w') as f:\n",
        "    pred_submission.to_csv(f, index=False)\n",
        "\n",
        "files.download('pred.csv')        \n",
        "        "
      ],
      "execution_count": 0,
      "outputs": []
    }
  ]
}